{
 "cells": [
  {
   "cell_type": "code",
   "execution_count": null,
   "metadata": {},
   "outputs": [],
   "source": [
    "import numpy as np\n",
    "\n",
    "# Creating the numpy float64 numbers\n",
    "num1 = np.float64(10.02005370507913)\n",
    "num2 = np.float64(10.097337006427916)\n",
    "\n",
    "# Performing an operation (e.g., addition)\n",
    "result = num1 + num2\n",
    "\n",
    "# Converting to Python float\n",
    "float_num1 = float(num1)\n",
    "float_num2 = float(num2)\n",
    "\n",
    "print(\"Result of addition:\", result)\n",
    "print(\"Converted to Python float:\", float_num1, float_num2)\n"
   ]
  },
  {
   "cell_type": "code",
   "execution_count": null,
   "metadata": {},
   "outputs": [],
   "source": [
    "import numpy as np\n",
    "\n",
    "# Assigning the values\n",
    "value1 = np.float64(37706.99588477366)\n",
    "value2 = np.float64(6.438271604938271)\n",
    "\n",
    "print(\"First value:\", value1)\n",
    "print(\"Second value:\", value2)\n"
   ]
  },
  {
   "cell_type": "code",
   "execution_count": 4,
   "metadata": {},
   "outputs": [
    {
     "name": "stdout",
     "output_type": "stream",
     "text": [
      "hello\n",
      "my name is hruthik\n"
     ]
    }
   ],
   "source": [
    "print ('hello')\n",
    "print ('my name is hruthik')"
   ]
  }
 ],
 "metadata": {
  "kernelspec": {
   "display_name": "Python 3",
   "language": "python",
   "name": "python3"
  },
  "language_info": {
   "codemirror_mode": {
    "name": "ipython",
    "version": 3
   },
   "file_extension": ".py",
   "mimetype": "text/x-python",
   "name": "python",
   "nbconvert_exporter": "python",
   "pygments_lexer": "ipython3",
   "version": "3.12.6"
  }
 },
 "nbformat": 4,
 "nbformat_minor": 2
}
